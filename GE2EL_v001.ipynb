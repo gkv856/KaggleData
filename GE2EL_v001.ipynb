{
  "nbformat": 4,
  "nbformat_minor": 0,
  "metadata": {
    "colab": {
      "name": "GE2EL_v001.ipynb",
      "provenance": [],
      "collapsed_sections": [],
      "mount_file_id": "1EFBQbNIum8vg8Uq7kjav-9cgLNpYx02X",
      "authorship_tag": "ABX9TyNo+ZovOtY2KAI7QTEGnHCt",
      "include_colab_link": true
    },
    "kernelspec": {
      "name": "python3",
      "display_name": "Python 3"
    },
    "language_info": {
      "name": "python"
    }
  },
  "cells": [
    {
      "cell_type": "markdown",
      "metadata": {
        "id": "view-in-github",
        "colab_type": "text"
      },
      "source": [
        "<a href=\"https://colab.research.google.com/github/gkv856/KaggleData/blob/main/GE2EL_v001.ipynb\" target=\"_parent\"><img src=\"https://colab.research.google.com/assets/colab-badge.svg\" alt=\"Open In Colab\"/></a>"
      ]
    },
    {
      "cell_type": "code",
      "metadata": {
        "id": "Pv2W1KVYeNeq"
      },
      "source": [
        "import os\n",
        "import librosa\n",
        "import numpy as np\n",
        "import matplotlib.pyplot as plt\n",
        "import tensorflow as tf\n",
        "import random\n",
        "from tensorflow.keras.layers import LSTM, Input\n",
        "from tensorflow import Variable\n",
        "import tensorflow.keras.layers as layers"
      ],
      "execution_count": 1,
      "outputs": []
    },
    {
      "cell_type": "code",
      "metadata": {
        "colab": {
          "base_uri": "https://localhost:8080/"
        },
        "id": "9ijxuGkAFZgN",
        "outputId": "534d533b-b17d-472c-cb05-404a34815bc0"
      },
      "source": [
        "!git clone https://github.com/gkv856/gkv856-GE2EL_tensorflow_implementation_with_data.git"
      ],
      "execution_count": 2,
      "outputs": [
        {
          "output_type": "stream",
          "name": "stdout",
          "text": [
            "Cloning into 'gkv856-GE2EL_tensorflow_implementation_with_data'...\n",
            "remote: Enumerating objects: 439, done.\u001b[K\n",
            "remote: Counting objects: 100% (439/439), done.\u001b[K\n",
            "remote: Compressing objects: 100% (425/425), done.\u001b[K\n",
            "remote: Total 439 (delta 11), reused 437 (delta 9), pack-reused 0\u001b[K\n",
            "Receiving objects: 100% (439/439), 87.47 MiB | 39.93 MiB/s, done.\n",
            "Resolving deltas: 100% (11/11), done.\n"
          ]
        }
      ]
    },
    {
      "cell_type": "code",
      "metadata": {
        "id": "ZBQlCE4UGlF8"
      },
      "source": [
        "from gkv.string_constants.configuration_file import *\n",
        "from gkv.gkv_implement.util import *\n",
        "from gkv.gkv_implement.model import *"
      ],
      "execution_count": 13,
      "outputs": []
    },
    {
      "cell_type": "code",
      "metadata": {
        "id": "4mhuuOXT9EHt"
      },
      "source": [
        "config[\"train_path\"] = \"/content/gkv/audio_data/spectrograms/train\"\n",
        "config[\"embed_dim\"] = 128\n",
        "config[\"lr\"] = 1e-6\n",
        "\n",
        "# config"
      ],
      "execution_count": 14,
      "outputs": []
    },
    {
      "cell_type": "code",
      "metadata": {
        "colab": {
          "base_uri": "https://localhost:8080/"
        },
        "id": "RH97yiCjviz9",
        "outputId": "8498f5ca-4f02-4ff2-d9a3-f2ce81d95218"
      },
      "source": [
        "inp_shape = [config[\"speaker_num\"] * config[\"utter_num\"], config[\"n_mels\"]]\n",
        "inp_shape"
      ],
      "execution_count": 15,
      "outputs": [
        {
          "output_type": "execute_result",
          "data": {
            "text/plain": [
              "[20, 40]"
            ]
          },
          "metadata": {},
          "execution_count": 15
        }
      ]
    },
    {
      "cell_type": "code",
      "metadata": {
        "id": "DxhJm9J4J4jQ"
      },
      "source": [
        "model = create_model(inp_shape, \"model0\")"
      ],
      "execution_count": 16,
      "outputs": []
    },
    {
      "cell_type": "code",
      "metadata": {
        "colab": {
          "base_uri": "https://localhost:8080/"
        },
        "id": "lXSk3f_KvuNP",
        "outputId": "0c0af552-df3b-4bbf-84a3-fca2bbffd88c"
      },
      "source": [
        "trained_model = fit_train_model(model, 20000)"
      ],
      "execution_count": null,
      "outputs": [
        {
          "output_type": "stream",
          "name": "stdout",
          "text": [
            "..................................................(Epoch : 100) loss: 7822.4590\n",
            "..................................................(Epoch : 200) loss: 7761.4927\n",
            "..................................................(Epoch : 300) loss: 7730.5181\n",
            "..................................................(Epoch : 400) loss: 7712.0664\n",
            "..................................................(Epoch : 500) loss: 7696.8643\n",
            "..................................................(Epoch : 600) loss: 7689.2637\n",
            "..................................................(Epoch : 700) loss: 7684.9907\n",
            "..................................................(Epoch : 800) loss: 7679.8052\n",
            "..................................................(Epoch : 900) loss: 7675.9150\n",
            "..................................................(Epoch : 1000) loss: 7673.2544\n",
            "..................................................(Epoch : 1100) loss: 7670.6450\n",
            "................................"
          ]
        }
      ]
    },
    {
      "cell_type": "code",
      "metadata": {
        "id": "u_EpYFkYwrp7"
      },
      "source": [
        "prediction = trained_model.predict(random_batch())"
      ],
      "execution_count": 20,
      "outputs": []
    },
    {
      "cell_type": "code",
      "metadata": {
        "colab": {
          "base_uri": "https://localhost:8080/"
        },
        "id": "gkK01xnAw0h3",
        "outputId": "192a22ea-6024-4766-b73b-29cc7b6ef14b"
      },
      "source": [
        "for pred in prediction:\n",
        "  print(pred.shape)"
      ],
      "execution_count": 22,
      "outputs": [
        {
          "output_type": "stream",
          "name": "stdout",
          "text": [
            "(154, 20, 128)\n",
            "(154, 128)\n",
            "(154, 128)\n"
          ]
        }
      ]
    },
    {
      "cell_type": "code",
      "metadata": {
        "colab": {
          "base_uri": "https://localhost:8080/"
        },
        "id": "TOKAU90Kw1zU",
        "outputId": "6cea0f38-7085-4054-d226-73557ad4445f"
      },
      "source": [
        "embed = normalize(prediction[0])\n",
        "embed.shape"
      ],
      "execution_count": 28,
      "outputs": [
        {
          "output_type": "execute_result",
          "data": {
            "text/plain": [
              "TensorShape([154, 20, 128])"
            ]
          },
          "metadata": {},
          "execution_count": 28
        }
      ]
    },
    {
      "cell_type": "code",
      "metadata": {
        "colab": {
          "base_uri": "https://localhost:8080/"
        },
        "id": "BDLeK42XxSSj",
        "outputId": "25ab6a45-b1b4-41be-9930-adfaa8a2e239"
      },
      "source": [
        "d_vector = tf.reduce_mean(embed, axis=0)\n",
        "d_vector.shape"
      ],
      "execution_count": 29,
      "outputs": [
        {
          "output_type": "execute_result",
          "data": {
            "text/plain": [
              "TensorShape([20, 128])"
            ]
          },
          "metadata": {},
          "execution_count": 29
        }
      ]
    },
    {
      "cell_type": "code",
      "metadata": {
        "colab": {
          "base_uri": "https://localhost:8080/"
        },
        "id": "DfX6a0fTzaZj",
        "outputId": "163c0a51-276d-4815-9360-a11f3fdd198d"
      },
      "source": [
        "e_val = tf.reduce_mean(d_vector, axis=1)\n",
        "e_val"
      ],
      "execution_count": 31,
      "outputs": [
        {
          "output_type": "execute_result",
          "data": {
            "text/plain": [
              "<tf.Tensor: shape=(20,), dtype=float32, numpy=\n",
              "array([0.05898031, 0.0549629 , 0.05339248, 0.05257892, 0.05223735,\n",
              "       0.05215569, 0.05210336, 0.05207646, 0.05203118, 0.05194999,\n",
              "       0.05181855, 0.05166374, 0.05148298, 0.05131446, 0.05112283,\n",
              "       0.05103616, 0.0509181 , 0.05080494, 0.05070264, 0.05059323],\n",
              "      dtype=float32)>"
            ]
          },
          "metadata": {},
          "execution_count": 31
        }
      ]
    },
    {
      "cell_type": "code",
      "metadata": {
        "id": "xWq3AYBsyORO"
      },
      "source": [
        "import matplotlib.pyplot as plt\n",
        "import seaborn as sns"
      ],
      "execution_count": 30,
      "outputs": []
    },
    {
      "cell_type": "code",
      "metadata": {
        "id": "9t2x7yJrzGtJ"
      },
      "source": [
        "data = {\n",
        "        \"dim-1\": d_vector[:, 0],\n",
        "        \"dim-2\": d_vector[:, 1],\n",
        "        \"label\": spkr_names,\n",
        "    }"
      ],
      "execution_count": null,
      "outputs": []
    }
  ]
}