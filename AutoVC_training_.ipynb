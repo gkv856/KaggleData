{
  "nbformat": 4,
  "nbformat_minor": 0,
  "metadata": {
    "colab": {
      "name": "AutoVC training .ipynb",
      "provenance": [],
      "collapsed_sections": [],
      "mount_file_id": "1zL5O_UHp9FMhn4AqNTf5c-_46aCB78g5",
      "authorship_tag": "ABX9TyOLjjwRB+oTE6Kyekq0zC1k",
      "include_colab_link": true
    },
    "kernelspec": {
      "name": "python3",
      "display_name": "Python 3"
    },
    "language_info": {
      "name": "python"
    },
    "accelerator": "GPU"
  },
  "cells": [
    {
      "cell_type": "markdown",
      "metadata": {
        "id": "view-in-github",
        "colab_type": "text"
      },
      "source": [
        "<a href=\"https://colab.research.google.com/github/gkv856/KaggleData/blob/main/AutoVC_training_.ipynb\" target=\"_parent\"><img src=\"https://colab.research.google.com/assets/colab-badge.svg\" alt=\"Open In Colab\"/></a>"
      ]
    },
    {
      "cell_type": "code",
      "metadata": {
        "colab": {
          "base_uri": "https://localhost:8080/"
        },
        "id": "KlD_l2VGnlMq",
        "outputId": "1a811959-c07c-41c3-ff53-6b730d1fc3b1"
      },
      "source": [
        "!git clone https://github.com/gkv856/end2end_auto_voice_conversion.git"
      ],
      "execution_count": 1,
      "outputs": [
        {
          "output_type": "stream",
          "name": "stdout",
          "text": [
            "Cloning into 'end2end_auto_voice_conversion'...\n",
            "remote: Enumerating objects: 700, done.\u001b[K\n",
            "remote: Counting objects: 100% (700/700), done.\u001b[K\n",
            "remote: Compressing objects: 100% (508/508), done.\u001b[K\n",
            "remote: Total 700 (delta 243), reused 603 (delta 146), pack-reused 0\u001b[K\n",
            "Receiving objects: 100% (700/700), 266.44 MiB | 26.39 MiB/s, done.\n",
            "Resolving deltas: 100% (243/243), done.\n",
            "Checking out files: 100% (213/213), done.\n"
          ]
        }
      ]
    },
    {
      "cell_type": "code",
      "metadata": {
        "id": "9F-Jn5-brXJP"
      },
      "source": [
        "!mv end2end_auto_voice_conversion/ AVC/"
      ],
      "execution_count": 2,
      "outputs": []
    },
    {
      "cell_type": "code",
      "metadata": {
        "id": "iIVOtzwUqLkp",
        "colab": {
          "base_uri": "https://localhost:8080/"
        },
        "outputId": "7197d133-7ddd-4e2e-f9ab-a90d7c015be4"
      },
      "source": [
        "pip install webrtcvad"
      ],
      "execution_count": 3,
      "outputs": [
        {
          "output_type": "stream",
          "name": "stdout",
          "text": [
            "Collecting webrtcvad\n",
            "  Downloading webrtcvad-2.0.10.tar.gz (66 kB)\n",
            "\u001b[?25l\r\u001b[K     |█████                           | 10 kB 22.8 MB/s eta 0:00:01\r\u001b[K     |██████████                      | 20 kB 28.6 MB/s eta 0:00:01\r\u001b[K     |██████████████▉                 | 30 kB 13.3 MB/s eta 0:00:01\r\u001b[K     |███████████████████▉            | 40 kB 10.1 MB/s eta 0:00:01\r\u001b[K     |████████████████████████▊       | 51 kB 4.6 MB/s eta 0:00:01\r\u001b[K     |█████████████████████████████▊  | 61 kB 4.7 MB/s eta 0:00:01\r\u001b[K     |████████████████████████████████| 66 kB 2.4 MB/s \n",
            "\u001b[?25hBuilding wheels for collected packages: webrtcvad\n",
            "  Building wheel for webrtcvad (setup.py) ... \u001b[?25l\u001b[?25hdone\n",
            "  Created wheel for webrtcvad: filename=webrtcvad-2.0.10-cp37-cp37m-linux_x86_64.whl size=72405 sha256=db0a9eb20361bc3a9392181eec3238a70753449e6ac27407e6c3d6e60f27d426\n",
            "  Stored in directory: /root/.cache/pip/wheels/11/f9/67/a3158d131f57e1c0a7d8d966a707d4a2fb27567a4fe47723ad\n",
            "Successfully built webrtcvad\n",
            "Installing collected packages: webrtcvad\n",
            "Successfully installed webrtcvad-2.0.10\n"
          ]
        }
      ]
    },
    {
      "cell_type": "code",
      "metadata": {
        "colab": {
          "base_uri": "https://localhost:8080/"
        },
        "id": "6IjU5f1KrngW",
        "outputId": "b8d60935-1ee6-4903-a1c5-ecb66751bc20"
      },
      "source": [
        "from AVC.strings.constants import hp"
      ],
      "execution_count": 4,
      "outputs": [
        {
          "output_type": "stream",
          "name": "stdout",
          "text": [
            "Device type available = 'cpu'\n"
          ]
        }
      ]
    },
    {
      "cell_type": "code",
      "metadata": {
        "colab": {
          "base_uri": "https://localhost:8080/",
          "height": 402
        },
        "id": "Ikq17qcOn1W_",
        "outputId": "e842e9a3-fddb-48f6-ad02-af8139fcd9e5"
      },
      "source": [
        "import torch\n",
        "\n",
        "from AVC.s3_auto_voice_cloner.s1_create_emb_per_speaker import create_embbedings_per_speaker\n",
        "\n",
        "from sklearn.manifold import TSNE\n",
        "import matplotlib.pyplot as plt\n",
        "\n",
        "# hp.m_ge2e.best_model_path = \"static/model_chk_pts/ge2e/final_epoch_1000_L_0.0390.pth\"\n",
        "\n",
        "utterances = create_embbedings_per_speaker(hp)\n",
        "\n",
        "\n",
        "labels = []\n",
        "embs = []\n",
        "for k, v in utterances.items():\n",
        "    embs.append(v)\n",
        "    labels.append(k)\n",
        "\n",
        "\n",
        "embeddings = torch.tensor(embs)\n",
        "\n",
        "scatters = TSNE(n_components=2, random_state=0).fit_transform(embeddings.cpu().detach().numpy())\n",
        "fig = plt.figure(figsize=(5, 5))\n",
        "\n",
        "current_Label = labels[0]\n",
        "current_Index = 0\n",
        "for index, label in enumerate(labels[1:], 1):\n",
        "    if label != current_Label:\n",
        "        plt.scatter(scatters[current_Index:index, 0], scatters[current_Index:index, 1],\n",
        "                    label='{}'.format(current_Label))\n",
        "        current_Label = label\n",
        "        current_Index = index\n",
        "\n",
        "plt.scatter(scatters[current_Index:, 0], scatters[current_Index:, 1], label='{}'.format(current_Label))\n",
        "plt.legend()\n",
        "plt.tight_layout()\n",
        "plt.show()\n"
      ],
      "execution_count": 5,
      "outputs": [
        {
          "output_type": "stream",
          "name": "stdout",
          "text": [
            "Pre-trained model loaded /content/AVC/static/model_chk_pts/ge2e/embedding_model_GE2E_loss_epoch_1000_L_0.0003.pth\n",
            "File saved!!\n"
          ]
        },
        {
          "output_type": "display_data",
          "data": {
            "image/png": "[encoded data removed]",
            "text/plain": [
              "<Figure size 360x360 with 1 Axes>"
            ]
          },
          "metadata": {
            "needs_background": "light"
          }
        }
      ]
    },
    {
      "cell_type": "code",
      "metadata": {
        "id": "xtIewt8kpdR6"
      },
      "source": [
        "from AVC.s3_auto_voice_cloner.s5_auto_vc_train import TrainAutoVCNetwork"
      ],
      "execution_count": 6,
      "outputs": []
    },
    {
      "cell_type": "code",
      "metadata": {
        "colab": {
          "base_uri": "https://localhost:8080/",
          "height": 421
        },
        "id": "nr0mhvWUq7_e",
        "outputId": "2b49e891-dae9-4a31-8e16-f1a6c875f011"
      },
      "source": [
        "\n",
        "hp.m_avc.tpm.lambda_cd = 1\n",
        "hp.m_avc.tpm.num_iters = 1000\n",
        "hp.m_avc.tpm.log_step = 100\n",
        "hp.m_avc.tpm.dot_print = 10\n",
        "hp.m_avc.tpm.checkpoint_interval = 200\n",
        "hp.m_avc.tpm.lr = 0.001\n",
        "hp.m_avc.tpm.reduce_lr_interval = 100\n",
        "hp.m_avc.tpm.data_batch_size = 2\n",
        "\n",
        "solver = TrainAutoVCNetwork(hp)\n",
        "\n",
        "# start the training\n",
        "auto_vc_model, lst_loss_tuple = solver.start_training()\n"
      ],
      "execution_count": null,
      "outputs": [
        {
          "output_type": "stream",
          "name": "stdout",
          "text": [
            "Start training...\n",
            "Epoch:[100/1000] .......... Reconst: 0.2154 Reconst_Resi: 0.2504 Content_loss: 0.0106, 00:12:36\n",
            "Reducing learning rate from '0.001' to '0.0005'\n",
            "Epoch:[200/1000] "
          ]
        },
        {
          "output_type": "error",
          "ename": "KeyboardInterrupt",
          "evalue": "ignored",
          "traceback": [
            "\u001b[0;31m---------------------------------------------------------------------------\u001b[0m",
            "\u001b[0;31mKeyboardInterrupt\u001b[0m                         Traceback (most recent call last)",
            "\u001b[0;32m<ipython-input-7-31ea5f7976d4>\u001b[0m in \u001b[0;36m<module>\u001b[0;34m()\u001b[0m\n\u001b[1;32m     12\u001b[0m \u001b[0;34m\u001b[0m\u001b[0m\n\u001b[1;32m     13\u001b[0m \u001b[0;31m# start the training\u001b[0m\u001b[0;34m\u001b[0m\u001b[0;34m\u001b[0m\u001b[0;34m\u001b[0m\u001b[0m\n\u001b[0;32m---> 14\u001b[0;31m \u001b[0mauto_vc_model\u001b[0m\u001b[0;34m,\u001b[0m \u001b[0mlst_loss_tuple\u001b[0m \u001b[0;34m=\u001b[0m \u001b[0msolver\u001b[0m\u001b[0;34m.\u001b[0m\u001b[0mstart_training\u001b[0m\u001b[0;34m(\u001b[0m\u001b[0;34m)\u001b[0m\u001b[0;34m\u001b[0m\u001b[0;34m\u001b[0m\u001b[0m\n\u001b[0m",
            "\u001b[0;32m/content/AVC/s3_auto_voice_cloner/s5_auto_vc_train.py\u001b[0m in \u001b[0;36mstart_training\u001b[0;34m(self)\u001b[0m\n\u001b[1;32m    164\u001b[0m \u001b[0;34m\u001b[0m\u001b[0m\n\u001b[1;32m    165\u001b[0m             \u001b[0mself\u001b[0m\u001b[0;34m.\u001b[0m\u001b[0mreset_grad\u001b[0m\u001b[0;34m(\u001b[0m\u001b[0;34m)\u001b[0m\u001b[0;34m\u001b[0m\u001b[0;34m\u001b[0m\u001b[0m\n\u001b[0;32m--> 166\u001b[0;31m             \u001b[0mloss_total\u001b[0m\u001b[0;34m.\u001b[0m\u001b[0mbackward\u001b[0m\u001b[0;34m(\u001b[0m\u001b[0;34m)\u001b[0m\u001b[0;34m\u001b[0m\u001b[0;34m\u001b[0m\u001b[0m\n\u001b[0m\u001b[1;32m    167\u001b[0m             \u001b[0mself\u001b[0m\u001b[0;34m.\u001b[0m\u001b[0moptimizer\u001b[0m\u001b[0;34m.\u001b[0m\u001b[0mstep\u001b[0m\u001b[0;34m(\u001b[0m\u001b[0;34m)\u001b[0m\u001b[0;34m\u001b[0m\u001b[0;34m\u001b[0m\u001b[0m\n\u001b[1;32m    168\u001b[0m \u001b[0;34m\u001b[0m\u001b[0m\n",
            "\u001b[0;32m/usr/local/lib/python3.7/dist-packages/torch/_tensor.py\u001b[0m in \u001b[0;36mbackward\u001b[0;34m(self, gradient, retain_graph, create_graph, inputs)\u001b[0m\n\u001b[1;32m    253\u001b[0m                 \u001b[0mcreate_graph\u001b[0m\u001b[0;34m=\u001b[0m\u001b[0mcreate_graph\u001b[0m\u001b[0;34m,\u001b[0m\u001b[0;34m\u001b[0m\u001b[0;34m\u001b[0m\u001b[0m\n\u001b[1;32m    254\u001b[0m                 inputs=inputs)\n\u001b[0;32m--> 255\u001b[0;31m         \u001b[0mtorch\u001b[0m\u001b[0;34m.\u001b[0m\u001b[0mautograd\u001b[0m\u001b[0;34m.\u001b[0m\u001b[0mbackward\u001b[0m\u001b[0;34m(\u001b[0m\u001b[0mself\u001b[0m\u001b[0;34m,\u001b[0m \u001b[0mgradient\u001b[0m\u001b[0;34m,\u001b[0m \u001b[0mretain_graph\u001b[0m\u001b[0;34m,\u001b[0m \u001b[0mcreate_graph\u001b[0m\u001b[0;34m,\u001b[0m \u001b[0minputs\u001b[0m\u001b[0;34m=\u001b[0m\u001b[0minputs\u001b[0m\u001b[0;34m)\u001b[0m\u001b[0;34m\u001b[0m\u001b[0;34m\u001b[0m\u001b[0m\n\u001b[0m\u001b[1;32m    256\u001b[0m \u001b[0;34m\u001b[0m\u001b[0m\n\u001b[1;32m    257\u001b[0m     \u001b[0;32mdef\u001b[0m \u001b[0mregister_hook\u001b[0m\u001b[0;34m(\u001b[0m\u001b[0mself\u001b[0m\u001b[0;34m,\u001b[0m \u001b[0mhook\u001b[0m\u001b[0;34m)\u001b[0m\u001b[0;34m:\u001b[0m\u001b[0;34m\u001b[0m\u001b[0;34m\u001b[0m\u001b[0m\n",
            "\u001b[0;32m/usr/local/lib/python3.7/dist-packages/torch/autograd/__init__.py\u001b[0m in \u001b[0;36mbackward\u001b[0;34m(tensors, grad_tensors, retain_graph, create_graph, grad_variables, inputs)\u001b[0m\n\u001b[1;32m    147\u001b[0m     Variable._execution_engine.run_backward(\n\u001b[1;32m    148\u001b[0m         \u001b[0mtensors\u001b[0m\u001b[0;34m,\u001b[0m \u001b[0mgrad_tensors_\u001b[0m\u001b[0;34m,\u001b[0m \u001b[0mretain_graph\u001b[0m\u001b[0;34m,\u001b[0m \u001b[0mcreate_graph\u001b[0m\u001b[0;34m,\u001b[0m \u001b[0minputs\u001b[0m\u001b[0;34m,\u001b[0m\u001b[0;34m\u001b[0m\u001b[0;34m\u001b[0m\u001b[0m\n\u001b[0;32m--> 149\u001b[0;31m         allow_unreachable=True, accumulate_grad=True)  # allow_unreachable flag\n\u001b[0m\u001b[1;32m    150\u001b[0m \u001b[0;34m\u001b[0m\u001b[0m\n\u001b[1;32m    151\u001b[0m \u001b[0;34m\u001b[0m\u001b[0m\n",
            "\u001b[0;31mKeyboardInterrupt\u001b[0m: "
          ]
        }
      ]
    },
    {
      "cell_type": "code",
      "metadata": {
        "id": "T9d3hSD23gvi"
      },
      "source": [
        "hp.m_avc.gen.best_model_path = \"/content/AVC/static/model_chk_pts/autovc/final_1000.pth\""
      ],
      "execution_count": null,
      "outputs": []
    },
    {
      "cell_type": "code",
      "metadata": {
        "id": "dXgEIKxlB17a"
      },
      "source": [
        "!pip install wavenet_vocoder\n",
        "!pip install webrtcvad"
      ],
      "execution_count": null,
      "outputs": []
    },
    {
      "cell_type": "code",
      "metadata": {
        "id": "Ig_jn3Z2q9is"
      },
      "source": [
        "import torch\n",
        "\n",
        "from AVC.s3_auto_voice_cloner.s1_create_emb_per_speaker import create_embbedings_per_speaker\n",
        "\n",
        "from sklearn.manifold import TSNE\n",
        "import matplotlib.pyplot as plt\n",
        "\n",
        "# hp.m_ge2e.best_model_path = \"static/model_chk_pts/ge2e/final_epoch_1000_L_0.0390.pth\"\n",
        "\n",
        "utterances = create_embbedings_per_speaker(hp)\n",
        "\n",
        "\n",
        "labels = []\n",
        "embs = []\n",
        "for k, v in utterances.items():\n",
        "    embs.append(v)\n",
        "    labels.append(k)\n",
        "\n",
        "\n",
        "embeddings = torch.tensor(embs)\n",
        "\n",
        "scatters = TSNE(n_components=2, random_state=0).fit_transform(embeddings.cpu().detach().numpy())\n",
        "fig = plt.figure(figsize=(5, 5))\n",
        "\n",
        "current_Label = labels[0]\n",
        "current_Index = 0\n",
        "for index, label in enumerate(labels[1:], 1):\n",
        "    if label != current_Label:\n",
        "        plt.scatter(scatters[current_Index:index, 0], scatters[current_Index:index, 1],\n",
        "                    label='{}'.format(current_Label))\n",
        "        current_Label = label\n",
        "        current_Index = index\n",
        "\n",
        "plt.scatter(scatters[current_Index:, 0], scatters[current_Index:, 1], label='{}'.format(current_Label))\n",
        "plt.legend()\n",
        "plt.tight_layout()\n",
        "plt.show()"
      ],
      "execution_count": null,
      "outputs": []
    },
    {
      "cell_type": "code",
      "metadata": {
        "id": "6EcBFWkg3Wie"
      },
      "source": [
        "import tqdm\n",
        "\n",
        "from AVC.s3_auto_voice_cloner.s6_create_cross_speaker_mel_specs import VoiceCloner\n",
        "import soundfile as sf\n",
        "import os"
      ],
      "execution_count": null,
      "outputs": []
    },
    {
      "cell_type": "code",
      "metadata": {
        "id": "oee-8QuUB_bD"
      },
      "source": [
        "hp.m_avc.gen.best_model_path = \"/content/AVC/static/model_chk_pts/autovc/final_1000.pth\"\n",
        "hp.m_wave_net.gen.best_model_path = \"/content/drive/MyDrive/AI_ML_DL/model_chk_pts/wavenet_model/wavenet_pretrained_step001000000_ema.pth\"\n",
        "vcs_obj = VoiceCloner(hp, tqdm, absolute_path=True)\n",
        "\n",
        "path_audio = \"static/raw_data/wavs/p225/p225_003.wav\"\n",
        "path_audio = os.path.join(hp.general.project_root, path_audio)\n",
        "spkr_p225_mel_spec = vcs_obj.au.get_mel_spects_from_audio(path_audio, partial_slices=False)\n",
        "\n",
        "path_audio = \"static/raw_data/wavs/p226/p226_003.wav\"\n",
        "path_audio = os.path.join(hp.general.project_root, path_audio)\n",
        "spkr_p226_mel_spec = vcs_obj.au.get_mel_spects_from_audio(path_audio, partial_slices=False)"
      ],
      "execution_count": null,
      "outputs": []
    },
    {
      "cell_type": "code",
      "metadata": {
        "id": "B8UzGtndCLeV"
      },
      "source": [
        "import matplotlib.pyplot as plt\n",
        "import numpy as np\n",
        "import math\n",
        "import librosa\n",
        "import librosa.display"
      ],
      "execution_count": null,
      "outputs": []
    },
    {
      "cell_type": "code",
      "metadata": {
        "id": "W4sgHQ2bCXCs"
      },
      "source": [
        "# Plot mel spectrograms\n",
        "fig, ax = plt.subplots(1,2, figsize = (20,10))\n",
        "\n",
        "ax[0].set(title = 'Mel Spectrogram of Guitar')\n",
        "i = librosa.display.specshow(spkr_p225_mel_spec, ax=ax[0])\n",
        "\n",
        "ax[1].set(title = 'Mel Spectrogram of Kick')\n",
        "librosa.display.specshow(spkr_p226_mel_spec, ax=ax[1])\n",
        "\n",
        "plt.colorbar(i)"
      ],
      "execution_count": null,
      "outputs": []
    },
    {
      "cell_type": "code",
      "metadata": {
        "id": "XlNXkRO0Cfsz"
      },
      "source": [
        "avc_mel_specs = vcs_obj.create_cross_spkr_mel_spects(\"p225\", \"p226\", spkr_p225_mel_spec[:320, :])\n",
        "avc_mel_specs.shape"
      ],
      "execution_count": null,
      "outputs": []
    },
    {
      "cell_type": "code",
      "metadata": {
        "id": "C63S2fAiEMzQ"
      },
      "source": [
        "# Plot mel spectrograms\n",
        "fig, ax = plt.subplots(1,2, figsize = (20,10))\n",
        "\n",
        "ax[0].set(title = 'Mel Spectrogram of P225')\n",
        "i = librosa.display.specshow(spkr_p225_mel_spec[:320, :], ax=ax[0])\n",
        "\n",
        "ax[1].set(title = 'AVC mel spect')\n",
        "librosa.display.specshow(avc_mel_specs, ax=ax[1])\n",
        "\n",
        "plt.colorbar(i)"
      ],
      "execution_count": null,
      "outputs": []
    }
  ]
}